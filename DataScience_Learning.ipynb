{
 "cells": [
  {
   "cell_type": "markdown",
   "id": "886fa92b",
   "metadata": {},
   "source": [
    "## Setup Configs"
   ]
  },
  {
   "cell_type": "code",
   "execution_count": null,
   "id": "6546fa45",
   "metadata": {},
   "outputs": [],
   "source": [
    "%%capture\n",
    "! pip install -r Requirements.txt\n",
    "! pip install kagglehub"
   ]
  },
  {
   "cell_type": "code",
   "execution_count": 84,
   "id": "a0f5fd07",
   "metadata": {},
   "outputs": [],
   "source": [
    "# Importing Libraries   \n",
    "import pandas as pd\n",
    "import matplotlib.pyplot as plt\n",
    "import plotly.express as px\n",
    "import kagglehub \n",
    "import os\n",
    "import shutil"
   ]
  },
  {
   "cell_type": "markdown",
   "id": "7f9b6ecc",
   "metadata": {},
   "source": [
    "### First-time import sequence"
   ]
  },
  {
   "cell_type": "code",
   "execution_count": null,
   "id": "a52ee6a7",
   "metadata": {},
   "outputs": [],
   "source": [
    "# Take the downloaded file from kagglehub and move it into a 'Data' folder in your current Directory.\n",
    "test = os.curdir+'/Data'\n",
    "os.makedirs(test,exist_ok=True)\n",
    "path = kagglehub.dataset_download('zubairamuti/foodpanda-review-dataset')\n",
    "filename= os.listdir(path)[0]\n",
    "final_data_path = shutil.copy(path+f'/{filename}',test)"
   ]
  },
  {
   "cell_type": "markdown",
   "id": "0e3530be",
   "metadata": {},
   "source": [
    "## Importing Data into environment and EDA"
   ]
  },
  {
   "cell_type": "code",
   "execution_count": 165,
   "id": "a2c422a1",
   "metadata": {},
   "outputs": [
    {
     "data": {
      "text/html": [
       "<div>\n",
       "<style scoped>\n",
       "    .dataframe tbody tr th:only-of-type {\n",
       "        vertical-align: middle;\n",
       "    }\n",
       "\n",
       "    .dataframe tbody tr th {\n",
       "        vertical-align: top;\n",
       "    }\n",
       "\n",
       "    .dataframe thead th {\n",
       "        text-align: right;\n",
       "    }\n",
       "</style>\n",
       "<table border=\"1\" class=\"dataframe\">\n",
       "  <thead>\n",
       "    <tr style=\"text-align: right;\">\n",
       "      <th></th>\n",
       "      <th>customer_id</th>\n",
       "      <th>gender</th>\n",
       "      <th>age</th>\n",
       "      <th>city</th>\n",
       "      <th>signup_date</th>\n",
       "      <th>order_id</th>\n",
       "      <th>order_date</th>\n",
       "      <th>restaurant_name</th>\n",
       "      <th>dish_name</th>\n",
       "      <th>category</th>\n",
       "      <th>quantity</th>\n",
       "      <th>price</th>\n",
       "      <th>payment_method</th>\n",
       "      <th>order_frequency</th>\n",
       "      <th>last_order_date</th>\n",
       "      <th>loyalty_points</th>\n",
       "      <th>churned</th>\n",
       "      <th>rating</th>\n",
       "      <th>rating_date</th>\n",
       "      <th>delivery_status</th>\n",
       "    </tr>\n",
       "  </thead>\n",
       "  <tbody>\n",
       "    <tr>\n",
       "      <th>0</th>\n",
       "      <td>C5663</td>\n",
       "      <td>Male</td>\n",
       "      <td>Adult</td>\n",
       "      <td>Peshawar</td>\n",
       "      <td>1/14/2024</td>\n",
       "      <td>O9663</td>\n",
       "      <td>8/23/2023</td>\n",
       "      <td>McDonald's</td>\n",
       "      <td>Burger</td>\n",
       "      <td>Italian</td>\n",
       "      <td>5</td>\n",
       "      <td>1478.27</td>\n",
       "      <td>Cash</td>\n",
       "      <td>38</td>\n",
       "      <td>7/19/2025</td>\n",
       "      <td>238</td>\n",
       "      <td>Active</td>\n",
       "      <td>3</td>\n",
       "      <td>10/14/2024</td>\n",
       "      <td>Cancelled</td>\n",
       "    </tr>\n",
       "    <tr>\n",
       "      <th>1</th>\n",
       "      <td>C2831</td>\n",
       "      <td>Male</td>\n",
       "      <td>Adult</td>\n",
       "      <td>Multan</td>\n",
       "      <td>7/7/2024</td>\n",
       "      <td>O6831</td>\n",
       "      <td>8/23/2023</td>\n",
       "      <td>KFC</td>\n",
       "      <td>Burger</td>\n",
       "      <td>Italian</td>\n",
       "      <td>3</td>\n",
       "      <td>956.04</td>\n",
       "      <td>Wallet</td>\n",
       "      <td>24</td>\n",
       "      <td>11/25/2024</td>\n",
       "      <td>81</td>\n",
       "      <td>Active</td>\n",
       "      <td>2</td>\n",
       "      <td>8/21/2025</td>\n",
       "      <td>Delayed</td>\n",
       "    </tr>\n",
       "    <tr>\n",
       "      <th>2</th>\n",
       "      <td>C2851</td>\n",
       "      <td>Other</td>\n",
       "      <td>Senior</td>\n",
       "      <td>Multan</td>\n",
       "      <td>6/20/2025</td>\n",
       "      <td>O6851</td>\n",
       "      <td>8/23/2023</td>\n",
       "      <td>Pizza Hut</td>\n",
       "      <td>Fries</td>\n",
       "      <td>Italian</td>\n",
       "      <td>2</td>\n",
       "      <td>882.51</td>\n",
       "      <td>Cash</td>\n",
       "      <td>42</td>\n",
       "      <td>5/10/2025</td>\n",
       "      <td>82</td>\n",
       "      <td>Inactive</td>\n",
       "      <td>3</td>\n",
       "      <td>9/19/2024</td>\n",
       "      <td>Delayed</td>\n",
       "    </tr>\n",
       "    <tr>\n",
       "      <th>3</th>\n",
       "      <td>C1694</td>\n",
       "      <td>Female</td>\n",
       "      <td>Senior</td>\n",
       "      <td>Peshawar</td>\n",
       "      <td>9/5/2023</td>\n",
       "      <td>O5694</td>\n",
       "      <td>8/23/2023</td>\n",
       "      <td>Subway</td>\n",
       "      <td>Pizza</td>\n",
       "      <td>Dessert</td>\n",
       "      <td>4</td>\n",
       "      <td>231.30</td>\n",
       "      <td>Card</td>\n",
       "      <td>27</td>\n",
       "      <td>7/24/2025</td>\n",
       "      <td>45</td>\n",
       "      <td>Inactive</td>\n",
       "      <td>2</td>\n",
       "      <td>6/29/2025</td>\n",
       "      <td>Delayed</td>\n",
       "    </tr>\n",
       "    <tr>\n",
       "      <th>4</th>\n",
       "      <td>C4339</td>\n",
       "      <td>Other</td>\n",
       "      <td>Senior</td>\n",
       "      <td>Lahore</td>\n",
       "      <td>12/29/2023</td>\n",
       "      <td>O8339</td>\n",
       "      <td>8/24/2023</td>\n",
       "      <td>KFC</td>\n",
       "      <td>Sandwich</td>\n",
       "      <td>Dessert</td>\n",
       "      <td>1</td>\n",
       "      <td>1156.69</td>\n",
       "      <td>Cash</td>\n",
       "      <td>35</td>\n",
       "      <td>12/21/2024</td>\n",
       "      <td>418</td>\n",
       "      <td>Inactive</td>\n",
       "      <td>3</td>\n",
       "      <td>3/6/2025</td>\n",
       "      <td>Cancelled</td>\n",
       "    </tr>\n",
       "  </tbody>\n",
       "</table>\n",
       "</div>"
      ],
      "text/plain": [
       "  customer_id  gender     age      city signup_date order_id order_date  \\\n",
       "0       C5663    Male   Adult  Peshawar   1/14/2024    O9663  8/23/2023   \n",
       "1       C2831    Male   Adult    Multan    7/7/2024    O6831  8/23/2023   \n",
       "2       C2851   Other  Senior    Multan   6/20/2025    O6851  8/23/2023   \n",
       "3       C1694  Female  Senior  Peshawar    9/5/2023    O5694  8/23/2023   \n",
       "4       C4339   Other  Senior    Lahore  12/29/2023    O8339  8/24/2023   \n",
       "\n",
       "  restaurant_name dish_name category  quantity    price payment_method  \\\n",
       "0      McDonald's    Burger  Italian         5  1478.27           Cash   \n",
       "1             KFC    Burger  Italian         3   956.04         Wallet   \n",
       "2       Pizza Hut     Fries  Italian         2   882.51           Cash   \n",
       "3          Subway     Pizza  Dessert         4   231.30           Card   \n",
       "4             KFC  Sandwich  Dessert         1  1156.69           Cash   \n",
       "\n",
       "   order_frequency last_order_date  loyalty_points   churned  rating  \\\n",
       "0               38       7/19/2025             238    Active       3   \n",
       "1               24      11/25/2024              81    Active       2   \n",
       "2               42       5/10/2025              82  Inactive       3   \n",
       "3               27       7/24/2025              45  Inactive       2   \n",
       "4               35      12/21/2024             418  Inactive       3   \n",
       "\n",
       "  rating_date delivery_status  \n",
       "0  10/14/2024       Cancelled  \n",
       "1   8/21/2025         Delayed  \n",
       "2   9/19/2024         Delayed  \n",
       "3   6/29/2025         Delayed  \n",
       "4    3/6/2025       Cancelled  "
      ]
     },
     "execution_count": 165,
     "metadata": {},
     "output_type": "execute_result"
    }
   ],
   "source": [
    "# Importing Data into Env\n",
    "ds_new = pd.read_csv(final_data_path)\n",
    "ds_new.head()"
   ]
  },
  {
   "cell_type": "markdown",
   "id": "9c31a309",
   "metadata": {},
   "source": [
    "<span style=\"color:red;\">From this dataset, I believe that these are insightful questions to ask:</span>\n",
    "1. [What's the city with the biggest spending and what do they order](#question-1-whats-the-city-with-the-biggest-spending-and-what-do-they-order)\n",
    "2. Are there any seasonal upticks in orders that we could capitalize off of? (Perhaps weekends or holidays)\n",
    "3. Rate of Churn and whether average spend over a certain time period could indicate the likelihood of a certain customer churn (could use loyalty points as well - indicates how invested a customer is in our service)\n",
    "4. A particular concern is if a lot of people are paying through cash (as it's hard to track and can't be controlled correctly), so how many people are paying through cash\n",
    "5. Gender and age dynamics \n",
    "6. Average length of service before churn\n",
    "7. Correlation between loyalty points and delivery_status? We have to ensure that atleast the loyal customers are getting good service"
   ]
  },
  {
   "cell_type": "markdown",
   "id": "655dbdbb",
   "metadata": {},
   "source": [
    "Before proceeding with this, let's check the quality of data and perform EDA to understand the data. "
   ]
  },
  {
   "cell_type": "code",
   "execution_count": 166,
   "id": "a651ffb6",
   "metadata": {},
   "outputs": [
    {
     "name": "stdout",
     "output_type": "stream",
     "text": [
      "<class 'pandas.core.frame.DataFrame'>\n",
      "RangeIndex: 6000 entries, 0 to 5999\n",
      "Data columns (total 20 columns):\n",
      " #   Column           Non-Null Count  Dtype  \n",
      "---  ------           --------------  -----  \n",
      " 0   customer_id      6000 non-null   object \n",
      " 1   gender           6000 non-null   object \n",
      " 2   age              6000 non-null   object \n",
      " 3   city             6000 non-null   object \n",
      " 4   signup_date      6000 non-null   object \n",
      " 5   order_id         6000 non-null   object \n",
      " 6   order_date       6000 non-null   object \n",
      " 7   restaurant_name  6000 non-null   object \n",
      " 8   dish_name        6000 non-null   object \n",
      " 9   category         6000 non-null   object \n",
      " 10  quantity         6000 non-null   int64  \n",
      " 11  price            6000 non-null   float64\n",
      " 12  payment_method   6000 non-null   object \n",
      " 13  order_frequency  6000 non-null   int64  \n",
      " 14  last_order_date  6000 non-null   object \n",
      " 15  loyalty_points   6000 non-null   int64  \n",
      " 16  churned          6000 non-null   object \n",
      " 17  rating           6000 non-null   int64  \n",
      " 18  rating_date      6000 non-null   object \n",
      " 19  delivery_status  6000 non-null   object \n",
      "dtypes: float64(1), int64(4), object(15)\n",
      "memory usage: 937.6+ KB\n"
     ]
    }
   ],
   "source": [
    "ds_new.info()"
   ]
  },
  {
   "cell_type": "markdown",
   "id": "dbf88f0c",
   "metadata": {},
   "source": [
    "Couple things to note here: \n",
    "1. age, gender, city, churned, payment_method, category, delivery_status will become $\\underline{\\text{categorical}}$ for classification/prediction purposes.\n",
    "2. signup_date, rating_date, order_date, and last_order_date will be converted to $\\underline{\\text{datetime}}$ values\n",
    "3. I will convert city to a $\\underline{\\text{string}}$ value\n",
    "\n",
    "All these changes have been tabulated below:\n",
    "\n",
    "|Column Name|Current Dtype|Converted Dtype|\n",
    "|:---:|:---:|:---:| \n",
    "|age|object|categorical|\n",
    "|gender|object|categorical|\n",
    "|churned|object|categorical|\n",
    "|payment_method|object|categorical|\n",
    "|category|object|categorical|\n",
    "|delivery_status|object|categorical|\n",
    "|signup_date|object|datetime|\n",
    "|rating_date|object|datetime|\n",
    "|order_date|object|datetime|\n",
    "|last_order_date|object|datetime|\n",
    "|city|object|str|\n",
    "\n",
    "We will convert datatypes now so that it's easier to work with down the line. For now, we move to some value counts. I opted for value counts as the plots don't visually show the difference in counts."
   ]
  },
  {
   "cell_type": "code",
   "execution_count": null,
   "id": "8c1d3e0a",
   "metadata": {},
   "outputs": [],
   "source": [
    "# Value Counts for the categorical colum\n",
    "col_names = ['age', 'gender','churned', 'payment_method']\n",
    "for col in col_names:\n",
    "    sub_df = ds_new[col].value_counts() # Get the \n",
    "    ds_new[col] = ds_new[col].astype('category')\n",
    "    print(sub_df,'\\n')"
   ]
  },
  {
   "cell_type": "code",
   "execution_count": 168,
   "id": "bbbe3c12",
   "metadata": {},
   "outputs": [],
   "source": [
    "# Date columns\n",
    "date_cols = ['signup_date', 'rating_date', 'order_date','last_order_date']\n",
    "for col in date_cols:\n",
    "    ds_new[col] = pd.to_datetime(ds_new[col])"
   ]
  },
  {
   "cell_type": "code",
   "execution_count": null,
   "id": "616515ef",
   "metadata": {},
   "outputs": [],
   "source": [
    "ds_new.info() # Final look"
   ]
  },
  {
   "cell_type": "markdown",
   "id": "e8af80bc",
   "metadata": {},
   "source": [
    "## Question 1: What's the city with the biggest spending and what do they order?"
   ]
  },
  {
   "cell_type": "markdown",
   "id": "abc6963c",
   "metadata": {},
   "source": [
    "Now that we have done preliminary analysis of the data, let's move to answering our first question. As we only require city, price, and dish, we'll make a new dataset that only has those properties for easy manipulation. "
   ]
  },
  {
   "cell_type": "code",
   "execution_count": 172,
   "id": "fd0b87b6",
   "metadata": {},
   "outputs": [
    {
     "data": {
      "text/html": [
       "<div>\n",
       "<style scoped>\n",
       "    .dataframe tbody tr th:only-of-type {\n",
       "        vertical-align: middle;\n",
       "    }\n",
       "\n",
       "    .dataframe tbody tr th {\n",
       "        vertical-align: top;\n",
       "    }\n",
       "\n",
       "    .dataframe thead th {\n",
       "        text-align: right;\n",
       "    }\n",
       "</style>\n",
       "<table border=\"1\" class=\"dataframe\">\n",
       "  <thead>\n",
       "    <tr style=\"text-align: right;\">\n",
       "      <th></th>\n",
       "      <th>city</th>\n",
       "      <th>price</th>\n",
       "      <th>dish_name</th>\n",
       "    </tr>\n",
       "  </thead>\n",
       "  <tbody>\n",
       "    <tr>\n",
       "      <th>0</th>\n",
       "      <td>Peshawar</td>\n",
       "      <td>1478.27</td>\n",
       "      <td>Burger</td>\n",
       "    </tr>\n",
       "    <tr>\n",
       "      <th>1</th>\n",
       "      <td>Multan</td>\n",
       "      <td>956.04</td>\n",
       "      <td>Burger</td>\n",
       "    </tr>\n",
       "    <tr>\n",
       "      <th>2</th>\n",
       "      <td>Multan</td>\n",
       "      <td>882.51</td>\n",
       "      <td>Fries</td>\n",
       "    </tr>\n",
       "    <tr>\n",
       "      <th>3</th>\n",
       "      <td>Peshawar</td>\n",
       "      <td>231.30</td>\n",
       "      <td>Pizza</td>\n",
       "    </tr>\n",
       "    <tr>\n",
       "      <th>4</th>\n",
       "      <td>Lahore</td>\n",
       "      <td>1156.69</td>\n",
       "      <td>Sandwich</td>\n",
       "    </tr>\n",
       "  </tbody>\n",
       "</table>\n",
       "</div>"
      ],
      "text/plain": [
       "       city    price dish_name\n",
       "0  Peshawar  1478.27    Burger\n",
       "1    Multan   956.04    Burger\n",
       "2    Multan   882.51     Fries\n",
       "3  Peshawar   231.30     Pizza\n",
       "4    Lahore  1156.69  Sandwich"
      ]
     },
     "execution_count": 172,
     "metadata": {},
     "output_type": "execute_result"
    }
   ],
   "source": [
    "q1_features = ['city','price','dish_name']\n",
    "q1_df = ds_new[q1_features]\n",
    "q1_df.head()"
   ]
  },
  {
   "cell_type": "markdown",
   "id": "de90d0ce",
   "metadata": {},
   "source": [
    "Now, we use pandas' groupby function to group this data by city and find the subtotals"
   ]
  },
  {
   "cell_type": "code",
   "execution_count": null,
   "id": "e75167c7",
   "metadata": {},
   "outputs": [
    {
     "name": "stdout",
     "output_type": "stream",
     "text": [
      "The city with the biggest spending is Multan with a total spend of $1009003.67\n"
     ]
    }
   ],
   "source": [
    "q1_gb = (\n",
    "    q1_df\n",
    "    .groupby(by='city')['price']\n",
    "    .sum()\n",
    "    .sort_values(ascending=False)\n",
    ")\n",
    "print(f'The city with the biggest spending is {q1_gb.index[0]} with a total spend of ${q1_gb.values[0]}')\n",
    "print(f'')"
   ]
  },
  {
   "cell_type": "markdown",
   "id": "477a5c2e",
   "metadata": {},
   "source": [
    "Examining this number in the ether, it seems like a lot, but we need to know the time period over which this spend has happened"
   ]
  },
  {
   "cell_type": "code",
   "execution_count": 196,
   "id": "7c368a0c",
   "metadata": {},
   "outputs": [],
   "source": [
    "def tdelta(df:pd.DataFrame,city:str)->int:\n",
    "    latest_date = df.loc[df.city==city,'order_date'].max()\n",
    "    oldest_date = df.loc[df.city==city,'order_date'].min()\n",
    "    days_elapsed = (latest_date - oldest_date).days\n",
    "    return days_elapsed"
   ]
  },
  {
   "cell_type": "code",
   "execution_count": null,
   "id": "08f8488a",
   "metadata": {},
   "outputs": [],
   "source": []
  }
 ],
 "metadata": {
  "kernelspec": {
   "display_name": "DSenv",
   "language": "python",
   "name": "python3"
  },
  "language_info": {
   "codemirror_mode": {
    "name": "ipython",
    "version": 3
   },
   "file_extension": ".py",
   "mimetype": "text/x-python",
   "name": "python",
   "nbconvert_exporter": "python",
   "pygments_lexer": "ipython3",
   "version": "3.13.2"
  }
 },
 "nbformat": 4,
 "nbformat_minor": 5
}
